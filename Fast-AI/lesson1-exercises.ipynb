{
 "cells": [
  {
   "cell_type": "markdown",
   "metadata": {},
   "source": [
    "# Lesson 1 Exercises"
   ]
  },
  {
   "cell_type": "code",
   "execution_count": 1,
   "metadata": {},
   "outputs": [],
   "source": [
    "import numpy as np"
   ]
  },
  {
   "cell_type": "markdown",
   "metadata": {},
   "source": [
    "### 1. \"How would you rewrite binary_loss using if instead of * and +?\"\n",
    "Original implementation: "
   ]
  },
  {
   "cell_type": "code",
   "execution_count": 2,
   "metadata": {},
   "outputs": [],
   "source": [
    "def binary_loss(y, p):\n",
    "    return np.mean(-(y * np.log(p) + (1-y)*np.log(1-p)))"
   ]
  },
  {
   "cell_type": "markdown",
   "metadata": {},
   "source": [
    "Solution:"
   ]
  },
  {
   "cell_type": "code",
   "execution_count": 3,
   "metadata": {},
   "outputs": [],
   "source": [
    "# y will always equal to 0, or 1\n",
    "def binary_loss_updated(y, p):\n",
    "    if y == 1:\n",
    "        return -np.log(p)\n",
    "    \n",
    "    return -np.log(1-p)"
   ]
  },
  {
   "cell_type": "markdown",
   "metadata": {},
   "source": [
    "Testing:"
   ]
  },
  {
   "cell_type": "code",
   "execution_count": 4,
   "metadata": {},
   "outputs": [
    {
     "name": "stdout",
     "output_type": "stream",
     "text": [
      "Original: 0.10536051565782628\n",
      "Updated: 0.10536051565782628\n"
     ]
    }
   ],
   "source": [
    "y = 1\n",
    "p = 0.9\n",
    "print(f'Original: {binary_loss(y, p)}')\n",
    "print(f'Updated: {binary_loss_updated(y, p)}')"
   ]
  },
  {
   "cell_type": "code",
   "execution_count": 5,
   "metadata": {},
   "outputs": [
    {
     "name": "stdout",
     "output_type": "stream",
     "text": [
      "Original: 2.302585092994046\n",
      "Updated: 2.302585092994046\n"
     ]
    }
   ],
   "source": [
    "y = 0\n",
    "p = 0.9\n",
    "print(f'Original: {binary_loss(y, p)}')\n",
    "print(f'Updated: {binary_loss_updated(y, p)}')"
   ]
  },
  {
   "cell_type": "code",
   "execution_count": 6,
   "metadata": {},
   "outputs": [
    {
     "name": "stdout",
     "output_type": "stream",
     "text": [
      "Original: 1.6688916353469958\n",
      "Updated: 1.6688916353469958\n"
     ]
    }
   ],
   "source": [
    "p = np.random.rand()\n",
    "print(f'Original: {binary_loss(y, p)}')\n",
    "print(f'Updated: {binary_loss_updated(y, p)}')"
   ]
  }
 ],
 "metadata": {
  "kernelspec": {
   "display_name": "Python 3",
   "language": "python",
   "name": "python3"
  },
  "language_info": {
   "codemirror_mode": {
    "name": "ipython",
    "version": 3
   },
   "file_extension": ".py",
   "mimetype": "text/x-python",
   "name": "python",
   "nbconvert_exporter": "python",
   "pygments_lexer": "ipython3",
   "version": "3.6.6"
  }
 },
 "nbformat": 4,
 "nbformat_minor": 2
}

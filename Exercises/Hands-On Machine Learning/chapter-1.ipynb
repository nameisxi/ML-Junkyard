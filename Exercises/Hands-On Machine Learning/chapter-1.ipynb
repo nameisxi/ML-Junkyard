{
 "cells": [
  {
   "cell_type": "markdown",
   "metadata": {},
   "source": [
    "# Chapter 1 Exercises\n",
    "\n",
    "1. Machine learning is about using historical data to make generalized predictions.\n",
    "3. It's a training set where for every training sample there's a correct answer y.\n",
    "4. Classification and regression.\n",
    "6. Reinforcement learning algorithm.\n",
    "7. Unsupervised clustering algorithm.\n",
    "8. Supervised learning problem.\n",
    "9. One that can train model \"on fly\" without complete shutdown and training from scratch.\n",
    "12. Parameter is used to make a prediction and hyperparameter is used to tune those parameters.\n",
    "13. Patterns. Minimizing a loss function. They tune parameters with the training data and use those parameters to calculate an     prediction for new data.\n",
    "14. Low-quality data, wrong algorithms, overfitting, and underfitting.\n",
    "15. It could either mean that the variance between the train and test data is too big e.g. the data's quality is bad, or that       the model is overfitting to the train data, making it useless for test data. You could always change the model to a more       linear one if variance is the problem, or try to clean some noise out of it.\n",
    "16/17. Test set is to make sure that you haven't overfitted for the validation set. Test set is supposed to be the last check off     after finding a working model for validation set.\n",
    "18. You're making all of the previous work meaningless."
   ]
  }
 ],
 "metadata": {
  "kernelspec": {
   "display_name": "Python 3",
   "language": "python",
   "name": "python3"
  },
  "language_info": {
   "codemirror_mode": {
    "name": "ipython",
    "version": 3
   },
   "file_extension": ".py",
   "mimetype": "text/x-python",
   "name": "python",
   "nbconvert_exporter": "python",
   "pygments_lexer": "ipython3",
   "version": "3.6.4"
  }
 },
 "nbformat": 4,
 "nbformat_minor": 2
}
